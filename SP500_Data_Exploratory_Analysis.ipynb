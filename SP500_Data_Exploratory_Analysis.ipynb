{
 "cells": [
  {
   "cell_type": "markdown",
   "id": "f7c06d8e",
   "metadata": {},
   "source": [
    "# S&P 500 Data Exploratory Analysis"
   ]
  },
  {
   "cell_type": "markdown",
   "id": "0b7d3afd",
   "metadata": {},
   "source": [
    "As a college student interested in investing, I chose to study the S&P 500's historical data. Inspired by Warren Buffett's advice in 'Guide to Wise Investing' to invest gradually in a broad index, I'm examining whether this strategy proves effective over time. "
   ]
  },
  {
   "cell_type": "markdown",
   "id": "9143fc55",
   "metadata": {},
   "source": [
    "### Market Basics"
   ]
  },
  {
   "cell_type": "markdown",
   "id": "01b55a96",
   "metadata": {},
   "source": [
    "The stock market consists of various exchanges, such as the New York Stock Exchange and Nasdaq. These exchanges connect buyers and sellers, facilitating the trade of stock shares while tracking the supply, demand, and consequently, the stock's price. \n",
    "\n",
    "Market indexes like the S&P 500, Nasdaq composite, and Dow Jones Industrial Average, measure the performance of certain stock groups. These groups may represent the entire market or specific sectors like technology or retail. These indexes are commonly referenced as indicators of the market's overall health.\n",
    "\n",
    "Investment strategies are generally categorized into two types: active and passive.\n",
    "\n",
    "### Active Investing\n",
    "Active investing is a hands-on approach where skilled stock analysts use their insights to buy and sell stocks actively, aiming to outperform the general market and indexes by achieving higher returns or lower risk.\n",
    "\n",
    "### Passive Investing\n",
    "In contrast, passive investing adopts a more long-term approach, capitalizing on the market's overall growth over time. This method is less prone to errors since it avoids making hasty decisions based on market fluctuations.\n",
    "\n",
    "The simplest way to engage in passive investing is by investing in index funds that track major indexes like the S&P 500, Dow Jones, or Russell 2000. These funds aggregate capital from various investors to purchase a mix of stocks, bonds, or securities comprising the relevant index. When the index updates its components, these index funds adjust their holdings accordingly.\n",
    "\n",
    "In this code, I will conduct data exploratory analysis on the S&P 500 index."
   ]
  },
  {
   "cell_type": "markdown",
   "id": "74c03525",
   "metadata": {},
   "source": [
    "The CSV file contains data from 2000 to 2022, focusing on the **Close** column to represent the **price** on a given day.\n",
    "\n",
    "To calculate the **return** of buying an index at time $t_1$ and selling at $t_2$, use the formula:\n",
    "$$r_{t_1,t_2} = \\frac{P_{t_2} - P_{t_1}}{P_{t_1}}$$\n",
    "Here, $P$ denotes the price.\n",
    "\n",
    "For assessing the return over a specific period $T$, the formula is:\n",
    "$$r_{t,T} = \\frac{P_{t+T} - P_{t}}{P_{t}}$$\n",
    "where $t$ is the purchase date and $T$ is the duration of holding. Exclude non-trading days in calculating ${t+T}$.\n",
    "\n",
    "Consider the return as a variable to determine risk through its standard deviation. Risk-averse investors prefer a return with low volatility.\n",
    "\n",
    "\n",
    "### Sharpe Ratio {-}\n",
    "\n",
    "People like high return and low risk investment. However, in the market high return always associates high risk (e.g. stock) and low risk means low return (e.g. treasury bonds). \n",
    "\n",
    "The Sharpe ratio compares the excess return of an investment with its risk to make a single measure:\n",
    "$$SR=(R-R_f)/\\sigma$$\n",
    "where $R$ and $\\sigma$ are the expected return and stddev for the investment and $R_f$ is the risk free rate. \n",
    "\n",
    "Risk free rate is the rate of return offered by an investment that carries zero risk. In reality there is no truly risk free rate, but we usually take something like three-month U.S. Treasury bill as a proxy as risk free rate.\n",
    "To be simple, I **take risk free rate as 0**. \n"
   ]
  },
  {
   "cell_type": "markdown",
   "id": "74a9ea1e",
   "metadata": {},
   "source": [
    "### Data Organization"
   ]
  },
  {
   "cell_type": "code",
   "execution_count": 1,
   "id": "eb39b6a4",
   "metadata": {},
   "outputs": [
    {
     "data": {
      "text/html": [
       "<div>\n",
       "<style scoped>\n",
       "    .dataframe tbody tr th:only-of-type {\n",
       "        vertical-align: middle;\n",
       "    }\n",
       "\n",
       "    .dataframe tbody tr th {\n",
       "        vertical-align: top;\n",
       "    }\n",
       "\n",
       "    .dataframe thead th {\n",
       "        text-align: right;\n",
       "    }\n",
       "</style>\n",
       "<table border=\"1\" class=\"dataframe\">\n",
       "  <thead>\n",
       "    <tr style=\"text-align: right;\">\n",
       "      <th></th>\n",
       "      <th>Date</th>\n",
       "      <th>Open</th>\n",
       "      <th>High</th>\n",
       "      <th>Low</th>\n",
       "      <th>Close</th>\n",
       "    </tr>\n",
       "  </thead>\n",
       "  <tbody>\n",
       "    <tr>\n",
       "      <th>2157</th>\n",
       "      <td>2000-07-25</td>\n",
       "      <td>1474.47</td>\n",
       "      <td>1476.26</td>\n",
       "      <td>1464.29</td>\n",
       "      <td>1474.47</td>\n",
       "    </tr>\n",
       "    <tr>\n",
       "      <th>2660</th>\n",
       "      <td>2000-07-26</td>\n",
       "      <td>1452.42</td>\n",
       "      <td>1474.47</td>\n",
       "      <td>1452.42</td>\n",
       "      <td>1452.42</td>\n",
       "    </tr>\n",
       "    <tr>\n",
       "      <th>1964</th>\n",
       "      <td>2000-07-27</td>\n",
       "      <td>1449.62</td>\n",
       "      <td>1464.75</td>\n",
       "      <td>1445.30</td>\n",
       "      <td>1449.62</td>\n",
       "    </tr>\n",
       "    <tr>\n",
       "      <th>1891</th>\n",
       "      <td>2000-07-28</td>\n",
       "      <td>1419.89</td>\n",
       "      <td>1456.35</td>\n",
       "      <td>1414.16</td>\n",
       "      <td>1419.89</td>\n",
       "    </tr>\n",
       "    <tr>\n",
       "      <th>2756</th>\n",
       "      <td>2000-07-31</td>\n",
       "      <td>1430.83</td>\n",
       "      <td>1437.63</td>\n",
       "      <td>1418.26</td>\n",
       "      <td>1430.83</td>\n",
       "    </tr>\n",
       "    <tr>\n",
       "      <th>...</th>\n",
       "      <td>...</td>\n",
       "      <td>...</td>\n",
       "      <td>...</td>\n",
       "      <td>...</td>\n",
       "      <td>...</td>\n",
       "    </tr>\n",
       "    <tr>\n",
       "      <th>1170</th>\n",
       "      <td>2022-10-17</td>\n",
       "      <td>3677.95</td>\n",
       "      <td>3689.73</td>\n",
       "      <td>3677.95</td>\n",
       "      <td>3677.95</td>\n",
       "    </tr>\n",
       "    <tr>\n",
       "      <th>2862</th>\n",
       "      <td>2022-10-18</td>\n",
       "      <td>3746.26</td>\n",
       "      <td>3762.79</td>\n",
       "      <td>3686.53</td>\n",
       "      <td>3719.98</td>\n",
       "    </tr>\n",
       "    <tr>\n",
       "      <th>963</th>\n",
       "      <td>2022-10-19</td>\n",
       "      <td>3703.11</td>\n",
       "      <td>3728.58</td>\n",
       "      <td>3666.51</td>\n",
       "      <td>3695.16</td>\n",
       "    </tr>\n",
       "    <tr>\n",
       "      <th>4342</th>\n",
       "      <td>2022-10-20</td>\n",
       "      <td>3689.05</td>\n",
       "      <td>3736.00</td>\n",
       "      <td>3656.44</td>\n",
       "      <td>3665.78</td>\n",
       "    </tr>\n",
       "    <tr>\n",
       "      <th>4949</th>\n",
       "      <td>2022-10-21</td>\n",
       "      <td>3657.10</td>\n",
       "      <td>3757.89</td>\n",
       "      <td>3647.42</td>\n",
       "      <td>3752.75</td>\n",
       "    </tr>\n",
       "  </tbody>\n",
       "</table>\n",
       "<p>5598 rows × 5 columns</p>\n",
       "</div>"
      ],
      "text/plain": [
       "            Date     Open     High      Low    Close\n",
       "2157  2000-07-25  1474.47  1476.26  1464.29  1474.47\n",
       "2660  2000-07-26  1452.42  1474.47  1452.42  1452.42\n",
       "1964  2000-07-27  1449.62  1464.75  1445.30  1449.62\n",
       "1891  2000-07-28  1419.89  1456.35  1414.16  1419.89\n",
       "2756  2000-07-31  1430.83  1437.63  1418.26  1430.83\n",
       "...          ...      ...      ...      ...      ...\n",
       "1170  2022-10-17  3677.95  3689.73  3677.95  3677.95\n",
       "2862  2022-10-18  3746.26  3762.79  3686.53  3719.98\n",
       "963   2022-10-19  3703.11  3728.58  3666.51  3695.16\n",
       "4342  2022-10-20  3689.05  3736.00  3656.44  3665.78\n",
       "4949  2022-10-21  3657.10  3757.89  3647.42  3752.75\n",
       "\n",
       "[5598 rows x 5 columns]"
      ]
     },
     "execution_count": 1,
     "metadata": {},
     "output_type": "execute_result"
    }
   ],
   "source": [
    "import pandas as pd\n",
    "sp500 = pd.read_csv('sp500.csv')\n",
    "sp500.dropna()\n",
    "sp500 = sp500.sort_values(by = 'Date', ascending = True)\n",
    "sp500"
   ]
  },
  {
   "cell_type": "markdown",
   "id": "8484ac93",
   "metadata": {},
   "source": [
    "## Return on investment\n",
    "\n",
    "### Daily Investor\n",
    "\n",
    "For impatient investors who hold the index for a day, I will show the histogram graph for all the possible returns. \n",
    "\n",
    "#### I will also answer the following questions:\n",
    "\n",
    "What is the expected return, risk and sharpe ratio? \n",
    "\n",
    "Is the return significantly greater than zero (a.k.a positive return) (use a threshold 0.01 for $p$-value) ?\n"
   ]
  },
  {
   "cell_type": "markdown",
   "id": "9e631619",
   "metadata": {},
   "source": [
    "**Returns Histogram:**"
   ]
  },
  {
   "cell_type": "code",
   "execution_count": 33,
   "id": "34aa00fa",
   "metadata": {},
   "outputs": [],
   "source": [
    "sp500 ['Returns'] = (sp500.iloc[:,-2]/sp500.iloc[:,-2].shift(periods = 1))-1\n",
    "\n",
    "sp500['Date'] = pd.to_datetime(sp500['Date'])\n",
    "sp500 = sp500.dropna()\n"
   ]
  },
  {
   "cell_type": "code",
   "execution_count": 72,
   "id": "6c4b8c5f",
   "metadata": {},
   "outputs": [
    {
     "data": {
      "image/png": "[encoded data removed]",
      "text/plain": [
       "<Figure size 1000x500 with 1 Axes>"
      ]
     },
     "metadata": {},
     "output_type": "display_data"
    }
   ],
   "source": [
    "import matplotlib.pyplot as plt\n",
    "\n",
    "plt.figure(figsize=(10, 5))\n",
    "\n",
    "plt.hist(x='Returns', data=sp500, bins = 80)\n",
    "plt.title('S&P 500 Daily Returns Histogram')\n",
    "plt.xlabel('Returns')\n",
    "plt.grid(True)"
   ]
  },
  {
   "cell_type": "markdown",
   "id": "10801565",
   "metadata": {},
   "source": [
    "**Expected Return, Risk, and Sharpe Ratio:**"
   ]
  },
  {
   "cell_type": "code",
   "execution_count": 40,
   "id": "7b629426",
   "metadata": {},
   "outputs": [
    {
     "name": "stdout",
     "output_type": "stream",
     "text": [
      "Fail to reject the null hypothesis\n",
      "P Value: 0.07066997605887224\n",
      "Mean: 0.00024419162038510564\n",
      "Risk: 0.012419029768756617\n",
      "Sharpe Ratio: 0.01966269708117093\n"
     ]
    }
   ],
   "source": [
    "from scipy import stats\n",
    "\n",
    "null_hypothesis_mean = 0\n",
    "\n",
    "t_stat, p_value = stats.ttest_1samp(sp500 ['Returns'], popmean=null_hypothesis_mean, alternative='greater')\n",
    "\n",
    "alpha = 0.01\n",
    "if p_value < alpha:\n",
    "    print(\"Reject the null hypothesis\")\n",
    "else:\n",
    "    print(\"Fail to reject the null hypothesis\")\n",
    "\n",
    "print('P Value:', p_value)\n",
    "print('Mean:', sp500 ['Returns'].mean())\n",
    "print('Risk:',sp500 ['Returns'].std())\n",
    "print('Sharpe Ratio:',sp500['Returns'].mean()/sp500 ['Returns'].std())\n"
   ]
  },
  {
   "cell_type": "markdown",
   "id": "b08eacf8",
   "metadata": {},
   "source": [
    "We fail to reject the null hypothesis. There isn't enough statistical evidence to conclude that the return is significantly greater than zero"
   ]
  },
  {
   "cell_type": "markdown",
   "id": "3c6fe66b",
   "metadata": {},
   "source": [
    "### Yearly Investor\n",
    "\n",
    "Suppose there is an investor who will hold the index for a year. The NYSE and NASDAQ average about 250 trading days a year, so let's suppose there are 250 trading days in a year. \n",
    "\n",
    "Let's do the same analysis as the above:"
   ]
  },
  {
   "cell_type": "markdown",
   "id": "56a3e71c",
   "metadata": {},
   "source": [
    "### Histogram:"
   ]
  },
  {
   "cell_type": "code",
   "execution_count": 130,
   "id": "72c1ce79",
   "metadata": {},
   "outputs": [
    {
     "data": {
      "text/plain": [
       "0.07133201891124846"
      ]
     },
     "execution_count": 130,
     "metadata": {},
     "output_type": "execute_result"
    }
   ],
   "source": [
    "import pandas as pd\n",
    "sp500_yearly = pd.read_csv('sp500.csv')\n",
    "sp500_yearly = sp500_yearly.sort_values(by = 'Date', ascending = True)\n",
    "sp500_yearly['Date'] = pd.to_datetime(sp500_yearly['Date'])\n",
    "\n",
    "sp500_yearly['Annual Returns'] = (sp500_yearly.iloc[:,-2]/sp500_yearly.iloc[:,-2].shift(periods = 250))-1\n",
    "#sp500_yearly = sp500_yearly.dropna()\n",
    "sp500_yearly['Annual Returns'].mean()\n",
    "#sp500_yearly['Annual Returns'].std()"
   ]
  },
  {
   "cell_type": "code",
   "execution_count": 132,
   "id": "c12a6902",
   "metadata": {},
   "outputs": [
    {
     "data": {
      "text/html": [
       "<div>\n",
       "<style scoped>\n",
       "    .dataframe tbody tr th:only-of-type {\n",
       "        vertical-align: middle;\n",
       "    }\n",
       "\n",
       "    .dataframe tbody tr th {\n",
       "        vertical-align: top;\n",
       "    }\n",
       "\n",
       "    .dataframe thead th {\n",
       "        text-align: right;\n",
       "    }\n",
       "</style>\n",
       "<table border=\"1\" class=\"dataframe\">\n",
       "  <thead>\n",
       "    <tr style=\"text-align: right;\">\n",
       "      <th></th>\n",
       "      <th>Date</th>\n",
       "      <th>Open</th>\n",
       "      <th>High</th>\n",
       "      <th>Low</th>\n",
       "      <th>Close</th>\n",
       "      <th>Annual Returns</th>\n",
       "    </tr>\n",
       "  </thead>\n",
       "  <tbody>\n",
       "    <tr>\n",
       "      <th>2314</th>\n",
       "      <td>2001-07-23</td>\n",
       "      <td>1191.03</td>\n",
       "      <td>1215.22</td>\n",
       "      <td>1190.50</td>\n",
       "      <td>1191.03</td>\n",
       "      <td>-0.186978</td>\n",
       "    </tr>\n",
       "    <tr>\n",
       "      <th>1109</th>\n",
       "      <td>2001-07-24</td>\n",
       "      <td>1171.65</td>\n",
       "      <td>1191.03</td>\n",
       "      <td>1165.54</td>\n",
       "      <td>1171.65</td>\n",
       "      <td>-0.197519</td>\n",
       "    </tr>\n",
       "    <tr>\n",
       "      <th>15</th>\n",
       "      <td>2001-07-25</td>\n",
       "      <td>1190.49</td>\n",
       "      <td>1190.52</td>\n",
       "      <td>1171.28</td>\n",
       "      <td>1190.49</td>\n",
       "      <td>-0.189594</td>\n",
       "    </tr>\n",
       "    <tr>\n",
       "      <th>1555</th>\n",
       "      <td>2001-07-26</td>\n",
       "      <td>1202.93</td>\n",
       "      <td>1204.18</td>\n",
       "      <td>1182.65</td>\n",
       "      <td>1202.93</td>\n",
       "      <td>-0.163708</td>\n",
       "    </tr>\n",
       "    <tr>\n",
       "      <th>613</th>\n",
       "      <td>2001-07-27</td>\n",
       "      <td>1205.82</td>\n",
       "      <td>1209.26</td>\n",
       "      <td>1195.99</td>\n",
       "      <td>1205.82</td>\n",
       "      <td>-0.156720</td>\n",
       "    </tr>\n",
       "    <tr>\n",
       "      <th>...</th>\n",
       "      <td>...</td>\n",
       "      <td>...</td>\n",
       "      <td>...</td>\n",
       "      <td>...</td>\n",
       "      <td>...</td>\n",
       "      <td>...</td>\n",
       "    </tr>\n",
       "    <tr>\n",
       "      <th>1314</th>\n",
       "      <td>2002-07-18</td>\n",
       "      <td>881.56</td>\n",
       "      <td>907.66</td>\n",
       "      <td>880.71</td>\n",
       "      <td>881.56</td>\n",
       "      <td>-0.266106</td>\n",
       "    </tr>\n",
       "    <tr>\n",
       "      <th>4848</th>\n",
       "      <td>2002-07-19</td>\n",
       "      <td>847.76</td>\n",
       "      <td>881.56</td>\n",
       "      <td>842.14</td>\n",
       "      <td>847.76</td>\n",
       "      <td>-0.295952</td>\n",
       "    </tr>\n",
       "    <tr>\n",
       "      <th>1814</th>\n",
       "      <td>2002-07-22</td>\n",
       "      <td>819.85</td>\n",
       "      <td>853.90</td>\n",
       "      <td>813.54</td>\n",
       "      <td>819.85</td>\n",
       "      <td>-0.321105</td>\n",
       "    </tr>\n",
       "    <tr>\n",
       "      <th>181</th>\n",
       "      <td>2002-07-23</td>\n",
       "      <td>797.70</td>\n",
       "      <td>827.63</td>\n",
       "      <td>796.24</td>\n",
       "      <td>797.70</td>\n",
       "      <td>-0.339658</td>\n",
       "    </tr>\n",
       "    <tr>\n",
       "      <th>4662</th>\n",
       "      <td>2002-07-24</td>\n",
       "      <td>843.42</td>\n",
       "      <td>844.20</td>\n",
       "      <td>775.96</td>\n",
       "      <td>843.42</td>\n",
       "      <td>-0.357138</td>\n",
       "    </tr>\n",
       "  </tbody>\n",
       "</table>\n",
       "<p>250 rows × 6 columns</p>\n",
       "</div>"
      ],
      "text/plain": [
       "           Date     Open     High      Low    Close  Annual Returns\n",
       "2314 2001-07-23  1191.03  1215.22  1190.50  1191.03       -0.186978\n",
       "1109 2001-07-24  1171.65  1191.03  1165.54  1171.65       -0.197519\n",
       "15   2001-07-25  1190.49  1190.52  1171.28  1190.49       -0.189594\n",
       "1555 2001-07-26  1202.93  1204.18  1182.65  1202.93       -0.163708\n",
       "613  2001-07-27  1205.82  1209.26  1195.99  1205.82       -0.156720\n",
       "...         ...      ...      ...      ...      ...             ...\n",
       "1314 2002-07-18   881.56   907.66   880.71   881.56       -0.266106\n",
       "4848 2002-07-19   847.76   881.56   842.14   847.76       -0.295952\n",
       "1814 2002-07-22   819.85   853.90   813.54   819.85       -0.321105\n",
       "181  2002-07-23   797.70   827.63   796.24   797.70       -0.339658\n",
       "4662 2002-07-24   843.42   844.20   775.96   843.42       -0.357138\n",
       "\n",
       "[250 rows x 6 columns]"
      ]
     },
     "execution_count": 132,
     "metadata": {},
     "output_type": "execute_result"
    }
   ],
   "source": [
    "sp500_yearly.head(250)"
   ]
  },
  {
   "cell_type": "code",
   "execution_count": 85,
   "id": "da5fb4d3",
   "metadata": {},
   "outputs": [
    {
     "data": {
      "image/png": "[encoded data removed]",
      "text/plain": [
       "<Figure size 640x480 with 1 Axes>"
      ]
     },
     "metadata": {},
     "output_type": "display_data"
    }
   ],
   "source": [
    "import matplotlib.pyplot as plt\n",
    "\n",
    "sp500_yearly.hist(column='Annual Returns', bins = 70)\n",
    "plt.title('S&P 500 Annual Returns Histogram')\n",
    "plt.xlabel('Returns')\n",
    "plt.yscale('log')\n",
    "plt.grid(True)"
   ]
  },
  {
   "cell_type": "markdown",
   "id": "2f2f868b",
   "metadata": {},
   "source": [
    "**Expected Return, Risk, and Sharpe Ratio:**"
   ]
  },
  {
   "cell_type": "code",
   "execution_count": 78,
   "id": "5a753008",
   "metadata": {},
   "outputs": [
    {
     "name": "stdout",
     "output_type": "stream",
     "text": [
      "Reject the null hypothesis\n",
      "P Value: 2.5100901648786045e-187\n",
      "Mean: 0.07133201891124846\n",
      "Risk: 0.17177360953196066\n",
      "Sharpe Ratio: 0.4152676252516906\n"
     ]
    }
   ],
   "source": [
    "null_hypothesis_mean = 0\n",
    "\n",
    "t_stat, p_value = stats.ttest_1samp(sp500_yearly['Annual Returns'], popmean=null_hypothesis_mean, alternative='greater')\n",
    "\n",
    "alpha = 0.01\n",
    "if p_value < alpha:\n",
    "    print(\"Reject the null hypothesis\")\n",
    "else:\n",
    "    print(\"Fail to reject the null hypothesis\")\n",
    "\n",
    "print('P Value:', p_value)\n",
    "print('Mean:', sp500_yearly ['Annual Returns'].mean())\n",
    "print('Risk:',sp500_yearly ['Annual Returns'].std())\n",
    "print('Sharpe Ratio:',sp500_yearly['Annual Returns'].mean()/sp500_yearly['Annual Returns'].std())\n"
   ]
  },
  {
   "cell_type": "markdown",
   "id": "01ac4b27",
   "metadata": {},
   "source": [
    "We reject the null hypothesis. \n",
    "\n",
    "There is enough statistical evidence to conclude that the return is significantly greater than zero. Don't be impatient with holding your stocks."
   ]
  },
  {
   "cell_type": "markdown",
   "id": "24ab7c2d",
   "metadata": {},
   "source": [
    "### From daily to yearly \n",
    "\n",
    "Now let's explore how the expected return/risk/shape ratio changes as one increases his or her holding period from 1 day to 1 year (250 days).\n",
    "\n",
    "#### \n",
    "At least how many days do you need to hold the index in order to make a significant positive return (threshold 0.01)?\n",
    "\n",
    "#### \n",
    "How are the returns associated with the risks for different investment strategies?"
   ]
  },
  {
   "cell_type": "code",
   "execution_count": 311,
   "id": "4946a7ee",
   "metadata": {},
   "outputs": [
    {
     "name": "stdout",
     "output_type": "stream",
     "text": [
      "You need to hold the index for at least 3 days to make a significant positive return.\n"
     ]
    }
   ],
   "source": [
    "p_values = []\n",
    "means =[]\n",
    "risks = []\n",
    "sharpe_ratios = []\n",
    "\n",
    "null_hypothesis_mean = 0\n",
    "\n",
    "for i in range(1,250):\n",
    "    returns = (sp500_yearly.iloc[:,-2]/sp500_yearly.iloc[:,-2].shift(periods = i))-1\n",
    "    returns = returns.dropna()\n",
    "    p_value = stats.ttest_1samp(returns, popmean=null_hypothesis_mean, alternative='greater')\n",
    "    p_values.append(p_value)\n",
    "    means.append(returns.mean())\n",
    "    risks.append(returns.std())\n",
    "    sharpe_ratio =returns.mean()/returns.std()\n",
    "    sharpe_ratios.append(sharpe_ratio)\n",
    "\n",
    "days = None\n",
    "\n",
    "for day, p_value_result in enumerate(p_values, start=1):\n",
    "    p_value = p_value_result.pvalue\n",
    "    if p_value <= 0.01:\n",
    "        days = day\n",
    "        break\n",
    "        \n",
    "if days is not None:\n",
    "    print(f\"You need to hold the index for at least {days+1} days to make a significant positive return.\")\n",
    "else:\n",
    "    print(\"Error\")"
   ]
  },
  {
   "cell_type": "markdown",
   "id": "085fbc99",
   "metadata": {},
   "source": [
    "### Graph"
   ]
  },
  {
   "cell_type": "code",
   "execution_count": 319,
   "id": "b2586d11",
   "metadata": {
    "scrolled": false
   },
   "outputs": [
    {
     "data": {
      "text/plain": [
       "[]"
      ]
     },
     "execution_count": 319,
     "metadata": {},
     "output_type": "execute_result"
    },
    {
     "data": {
      "image/png": "[encoded data removed]",
      "text/plain": [
       "<Figure size 1200x600 with 4 Axes>"
      ]
     },
     "metadata": {},
     "output_type": "display_data"
    }
   ],
   "source": [
    "\n",
    "# S&P 500 values over time\n",
    "fig, ax1 = plt.subplots(figsize=(12, 6))\n",
    "ax1.plot(sp500_yearly.index, sp500_yearly.iloc[:,-2], color='blue', label='S&P 500')\n",
    "ax1.set_title('S&P 500 Index')\n",
    "ax1.set_xlabel('Date')\n",
    "ax1.set_ylabel('Index Value')\n",
    "ax1.set_ylim(0, 8800)\n",
    "\n",
    "#returns\n",
    "plot_1 = means\n",
    "a = plt.axes([.16, .6, .22, .22], facecolor='000000')\n",
    "plt.plot(plot_1)\n",
    "plt.title('Return')\n",
    "plt.xlabel('Holding Period')\n",
    "a.set_yticks([])\n",
    "\n",
    "#risks\n",
    "plot_2=risks\n",
    "a = plt.axes([.41, .6, .22, .22], facecolor='000000')\n",
    "plt.plot(plot_2)\n",
    "plt.title('Risks')\n",
    "a.set_yticks([])\n",
    "\n",
    "#sharpe ratio\n",
    "plot_3=sharpe_ratios\n",
    "a = plt.axes([.66, .6, .22, .22], facecolor='000000')\n",
    "plt.plot(plot_3)\n",
    "plt.title('Sharpe Ratio')\n",
    "a.set_yticks([])\n"
   ]
  },
  {
   "cell_type": "code",
   "execution_count": null,
   "id": "f60e717e",
   "metadata": {},
   "outputs": [],
   "source": []
  },
  {
   "cell_type": "code",
   "execution_count": null,
   "id": "56ff2bb6",
   "metadata": {},
   "outputs": [],
   "source": []
  },
  {
   "cell_type": "code",
   "execution_count": 218,
   "id": "83af8e9c",
   "metadata": {},
   "outputs": [
    {
     "data": {
      "text/html": [
       "<img src=\"bonus.jpg\" width=\"675\"/>"
      ],
      "text/plain": [
       "<IPython.core.display.Image object>"
      ]
     },
     "execution_count": 218,
     "metadata": {},
     "output_type": "execute_result"
    }
   ],
   "source": [
    "#| echo: false\n",
    "\n",
    "# import image module\n",
    "from IPython.display import Image\n",
    "\n",
    "# get the image\n",
    "Image(url=\"bonus.jpg\",width=675)"
   ]
  },
  {
   "cell_type": "markdown",
   "id": "62add5f8",
   "metadata": {},
   "source": [
    "# Key Takeaways"
   ]
  },
  {
   "cell_type": "markdown",
   "id": "cfa60c62",
   "metadata": {},
   "source": [
    "As of January 19th, 2024, the S&P 500 just hit a record high. The S&P topped out at 4,842 Friday afternoon, narrowly beating January 2022’s prior all-time high of 4,818. Exciting news. \n",
    "\n",
    "#### Anyway, the takeaway for this data exploratory analysis are the following:\n",
    "\n",
    "Investing with a long-term outlook can be more rewarding than short-term trading. \n",
    "\n",
    "The power of compounding a significant advantage of long-term investing. Returns that are reinvested can generate their own returns, potentially increasing wealth over time.\n",
    "\n",
    "It's challenging to time the market accurately for short-term gains consistently. The data suggests that even a holding period as short as three days can start to mitigate this difficulty."
   ]
  }
 ],
 "metadata": {
  "kernelspec": {
   "display_name": "Python 3 (ipykernel)",
   "language": "python",
   "name": "python3"
  },
  "language_info": {
   "codemirror_mode": {
    "name": "ipython",
    "version": 3
   },
   "file_extension": ".py",
   "mimetype": "text/x-python",
   "name": "python",
   "nbconvert_exporter": "python",
   "pygments_lexer": "ipython3",
   "version": "3.11.4"
  }
 },
 "nbformat": 4,
 "nbformat_minor": 5
}
